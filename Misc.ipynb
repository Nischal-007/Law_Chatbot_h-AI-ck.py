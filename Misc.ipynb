!pip install numpy pandas seaborn scikit-learn
!pip install -q -U langchain langchain-community langchain-huggingface langchain-google-genai pypdf faiss-cpu sentence-transformers

======
## to upload a file in google colab from local
======

from google.colab import files
uploaded = files.upload()

textbook = list(uploaded.keys())[0]
print("Uploaded:",textbook )

===========
## to extract the text from the pdf using PyMuPDF
==========

!pip install PyMuPDF
import fitz  # PyMuPDF

doc = fitz.open(textbook1)

for i, page in enumerate(doc):
    print(f"\n--- Page {i+1} ---\n")
    print(page.get_text())


==========
#gradio installation if want to implement user interface in google colab, can use streamlit if running the code locally instead of google colab
===========
!pip install gradio

import gradio as gr

def chatbot_fn(query):
    result = llm.invoke(query)
    return result

gr.ChatInterface(chatbot_fn, title="🦙 LLaMA PDF Assistant").launch()
